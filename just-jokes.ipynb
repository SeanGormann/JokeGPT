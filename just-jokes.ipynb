{
 "cells": [
  {
   "cell_type": "code",
   "execution_count": 4,
   "id": "18e91d4b",
   "metadata": {},
   "outputs": [],
   "source": [
    "import pandas as pd\n",
    "import numpy as np"
   ]
  },
  {
   "cell_type": "code",
   "execution_count": 8,
   "id": "845faffd",
   "metadata": {},
   "outputs": [],
   "source": [
    "jokes = pd.read_csv('shortjokes.csv', index_col=0)"
   ]
  },
  {
   "cell_type": "code",
   "execution_count": 17,
   "id": "2c89edf8",
   "metadata": {},
   "outputs": [],
   "source": [
    "chars = set(jokes[\"Joke\"])"
   ]
  },
  {
   "cell_type": "code",
   "execution_count": 19,
   "id": "879425bb",
   "metadata": {},
   "outputs": [],
   "source": [
    "#Get all values in Jokes column where value begins with Q:\n",
    "QAJokes = jokes[\"Joke\"][jokes[\"Joke\"].str.startswith(\"Q:\")]"
   ]
  },
  {
   "cell_type": "code",
   "execution_count": 49,
   "id": "257b2104",
   "metadata": {},
   "outputs": [],
   "source": [
    "#Get all values in Jokes column that has a ? in it:\n",
    "QAJokes = jokes[\"Joke\"][jokes[\"Joke\"].str.contains(pat = \"\\\\?\")]\n"
   ]
  },
  {
   "cell_type": "code",
   "execution_count": 42,
   "id": "4f41d2b9",
   "metadata": {},
   "outputs": [
    {
     "data": {
      "text/plain": [
       "ID\n",
       "1     [me narrating a documentary about narrators] \"...\n",
       "2     Telling my daughter garlic is good for you. Go...\n",
       "3     I've been going through a really rough period ...\n",
       "4     If I could have dinner with anyone, dead or al...\n",
       "5        Two guys walk into a bar. The third guy ducks.\n",
       "6     Why can't Barbie get pregnant? Because Ken com...\n",
       "7      Why was the musician arrested? He got in treble.\n",
       "8     Did you hear about the guy who blew his entire...\n",
       "9     What do you do if a bird shits on your car? Do...\n",
       "10    He was a real gentlemen and always opened the ...\n",
       "Name: Joke, dtype: object"
      ]
     },
     "execution_count": 42,
     "metadata": {},
     "output_type": "execute_result"
    }
   ],
   "source": [
    "QAJokes.head(10)"
   ]
  },
  {
   "cell_type": "code",
   "execution_count": 47,
   "id": "7bbe55c6",
   "metadata": {},
   "outputs": [],
   "source": [
    "result = QAJokes.str.contains(\"\\\\?\")"
   ]
  },
  {
   "cell_type": "code",
   "execution_count": 51,
   "id": "d1561efe",
   "metadata": {},
   "outputs": [],
   "source": [
    "# Write each value in the Joke column to a new line in the text file\n",
    "column = QAJokes\n",
    "with open(\"qajokes.txt\", \"w\") as f:\n",
    "    for value in column:\n",
    "        f.write(str(value) + \"\\n\" + \"\\n\")"
   ]
  },
  {
   "attachments": {},
   "cell_type": "markdown",
   "id": "42315588",
   "metadata": {},
   "source": [
    "More Exploration of data"
   ]
  },
  {
   "cell_type": "code",
   "execution_count": null,
   "id": "71f70b7e",
   "metadata": {},
   "outputs": [],
   "source": [
    "with open('qajokes.txt') as f:\n",
    "    lines = f.readlines()\n",
    "\n",
    "\n",
    "lines = [x.strip() for x in lines]"
   ]
  },
  {
   "cell_type": "code",
   "execution_count": null,
   "id": "a4be5589",
   "metadata": {},
   "outputs": [],
   "source": [
    "lines[:10]"
   ]
  },
  {
   "cell_type": "code",
   "execution_count": null,
   "id": "dcd4c010",
   "metadata": {},
   "outputs": [],
   "source": [
    "lengths = []\n",
    "lengths = [len(x) for x in lines if len(x) != 0]\n",
    "average_length = sum(lengths) / len(lengths)\n",
    "average_length"
   ]
  },
  {
   "cell_type": "code",
   "execution_count": null,
   "id": "519e1b6a",
   "metadata": {},
   "outputs": [],
   "source": [
    "lengths[:10]"
   ]
  },
  {
   "cell_type": "code",
   "execution_count": null,
   "id": "379e1979",
   "metadata": {},
   "outputs": [],
   "source": [
    "#get the average length of each line\n",
    "lengths = [len(x) for x in lines]\n",
    "average_length = sum(lengths) / len(lengths)\n",
    "average_length"
   ]
  },
  {
   "cell_type": "code",
   "execution_count": null,
   "id": "ff6cd9d1",
   "metadata": {},
   "outputs": [],
   "source": [
    "#get the median length of each line\n",
    "median_length = sorted(lengths)[len(lengths) // 2]\n",
    "median_length"
   ]
  },
  {
   "cell_type": "code",
   "execution_count": null,
   "id": "bf8139b1",
   "metadata": {},
   "outputs": [],
   "source": [
    "#drop all the 0's in length\n",
    "lengths = [x for x in lengths if x != 0]"
   ]
  }
 ],
 "metadata": {
  "kernelspec": {
   "display_name": "venv",
   "language": "python",
   "name": "python3"
  },
  "language_info": {
   "codemirror_mode": {
    "name": "ipython",
    "version": 3
   },
   "file_extension": ".py",
   "mimetype": "text/x-python",
   "name": "python",
   "nbconvert_exporter": "python",
   "pygments_lexer": "ipython3",
   "version": "3.9.13 (main, Aug 25 2022, 18:29:29) \n[Clang 12.0.0 ]"
  },
  "vscode": {
   "interpreter": {
    "hash": "57dbe44eb74a19d18f388e4d9fafc4d32a78d1722d572d14a517bc61ad3dae60"
   }
  }
 },
 "nbformat": 4,
 "nbformat_minor": 5
}
